{
 "cells": [
  {
   "cell_type": "markdown",
   "metadata": {},
   "source": [
    "Problem Statement: This dataset utilizes data from 2014 Major League Baseball seasons in order to develop an algorithm that predicts the number of wins for a given team in the 2015 season based on several different indicators of success. There are 16 different features that will be used as the inputs to the machine learning and the output will be a value that represents the number of wins.\n",
    "\n",
    "-- Input features: Runs, At Bats, Hits, Doubles, Triples, Homeruns, Walks, Strikeouts, Stolen Bases, Runs Allowed, Earned Runs, Earned Run Average (ERA), Shutouts, Saves, and Errors\n",
    "\n",
    "-- Output: Number of predicted wins (W)"
   ]
  },
  {
   "cell_type": "code",
   "execution_count": 45,
   "metadata": {},
   "outputs": [],
   "source": [
    "import pandas as pd\n",
    "import numpy as np\n",
    "import matplotlib.pyplot as plt\n",
    "import seaborn as sns\n",
    "import warnings \n",
    "warnings.filterwarnings('ignore')"
   ]
  },
  {
   "cell_type": "code",
   "execution_count": 46,
   "metadata": {},
   "outputs": [],
   "source": [
    "data=pd.read_csv('baseball.csv')\n"
   ]
  },
  {
   "cell_type": "code",
   "execution_count": 47,
   "metadata": {},
   "outputs": [
    {
     "data": {
      "text/html": [
       "<div>\n",
       "<style scoped>\n",
       "    .dataframe tbody tr th:only-of-type {\n",
       "        vertical-align: middle;\n",
       "    }\n",
       "\n",
       "    .dataframe tbody tr th {\n",
       "        vertical-align: top;\n",
       "    }\n",
       "\n",
       "    .dataframe thead th {\n",
       "        text-align: right;\n",
       "    }\n",
       "</style>\n",
       "<table border=\"1\" class=\"dataframe\">\n",
       "  <thead>\n",
       "    <tr style=\"text-align: right;\">\n",
       "      <th></th>\n",
       "      <th>W</th>\n",
       "      <th>R</th>\n",
       "      <th>AB</th>\n",
       "      <th>H</th>\n",
       "      <th>2B</th>\n",
       "      <th>3B</th>\n",
       "      <th>HR</th>\n",
       "      <th>BB</th>\n",
       "      <th>SO</th>\n",
       "      <th>SB</th>\n",
       "      <th>RA</th>\n",
       "      <th>ER</th>\n",
       "      <th>ERA</th>\n",
       "      <th>CG</th>\n",
       "      <th>SHO</th>\n",
       "      <th>SV</th>\n",
       "      <th>E</th>\n",
       "    </tr>\n",
       "  </thead>\n",
       "  <tbody>\n",
       "    <tr>\n",
       "      <th>0</th>\n",
       "      <td>95</td>\n",
       "      <td>724</td>\n",
       "      <td>5575</td>\n",
       "      <td>1497</td>\n",
       "      <td>300</td>\n",
       "      <td>42</td>\n",
       "      <td>139</td>\n",
       "      <td>383</td>\n",
       "      <td>973</td>\n",
       "      <td>104</td>\n",
       "      <td>641</td>\n",
       "      <td>601</td>\n",
       "      <td>3.73</td>\n",
       "      <td>2</td>\n",
       "      <td>8</td>\n",
       "      <td>56</td>\n",
       "      <td>88</td>\n",
       "    </tr>\n",
       "    <tr>\n",
       "      <th>1</th>\n",
       "      <td>83</td>\n",
       "      <td>696</td>\n",
       "      <td>5467</td>\n",
       "      <td>1349</td>\n",
       "      <td>277</td>\n",
       "      <td>44</td>\n",
       "      <td>156</td>\n",
       "      <td>439</td>\n",
       "      <td>1264</td>\n",
       "      <td>70</td>\n",
       "      <td>700</td>\n",
       "      <td>653</td>\n",
       "      <td>4.07</td>\n",
       "      <td>2</td>\n",
       "      <td>12</td>\n",
       "      <td>45</td>\n",
       "      <td>86</td>\n",
       "    </tr>\n",
       "    <tr>\n",
       "      <th>2</th>\n",
       "      <td>81</td>\n",
       "      <td>669</td>\n",
       "      <td>5439</td>\n",
       "      <td>1395</td>\n",
       "      <td>303</td>\n",
       "      <td>29</td>\n",
       "      <td>141</td>\n",
       "      <td>533</td>\n",
       "      <td>1157</td>\n",
       "      <td>86</td>\n",
       "      <td>640</td>\n",
       "      <td>584</td>\n",
       "      <td>3.67</td>\n",
       "      <td>11</td>\n",
       "      <td>10</td>\n",
       "      <td>38</td>\n",
       "      <td>79</td>\n",
       "    </tr>\n",
       "    <tr>\n",
       "      <th>3</th>\n",
       "      <td>76</td>\n",
       "      <td>622</td>\n",
       "      <td>5533</td>\n",
       "      <td>1381</td>\n",
       "      <td>260</td>\n",
       "      <td>27</td>\n",
       "      <td>136</td>\n",
       "      <td>404</td>\n",
       "      <td>1231</td>\n",
       "      <td>68</td>\n",
       "      <td>701</td>\n",
       "      <td>643</td>\n",
       "      <td>3.98</td>\n",
       "      <td>7</td>\n",
       "      <td>9</td>\n",
       "      <td>37</td>\n",
       "      <td>101</td>\n",
       "    </tr>\n",
       "    <tr>\n",
       "      <th>4</th>\n",
       "      <td>74</td>\n",
       "      <td>689</td>\n",
       "      <td>5605</td>\n",
       "      <td>1515</td>\n",
       "      <td>289</td>\n",
       "      <td>49</td>\n",
       "      <td>151</td>\n",
       "      <td>455</td>\n",
       "      <td>1259</td>\n",
       "      <td>83</td>\n",
       "      <td>803</td>\n",
       "      <td>746</td>\n",
       "      <td>4.64</td>\n",
       "      <td>7</td>\n",
       "      <td>12</td>\n",
       "      <td>35</td>\n",
       "      <td>86</td>\n",
       "    </tr>\n",
       "  </tbody>\n",
       "</table>\n",
       "</div>"
      ],
      "text/plain": [
       "    W    R    AB     H   2B  3B   HR   BB    SO   SB   RA   ER   ERA  CG  SHO  \\\n",
       "0  95  724  5575  1497  300  42  139  383   973  104  641  601  3.73   2    8   \n",
       "1  83  696  5467  1349  277  44  156  439  1264   70  700  653  4.07   2   12   \n",
       "2  81  669  5439  1395  303  29  141  533  1157   86  640  584  3.67  11   10   \n",
       "3  76  622  5533  1381  260  27  136  404  1231   68  701  643  3.98   7    9   \n",
       "4  74  689  5605  1515  289  49  151  455  1259   83  803  746  4.64   7   12   \n",
       "\n",
       "   SV    E  \n",
       "0  56   88  \n",
       "1  45   86  \n",
       "2  38   79  \n",
       "3  37  101  \n",
       "4  35   86  "
      ]
     },
     "execution_count": 47,
     "metadata": {},
     "output_type": "execute_result"
    }
   ],
   "source": [
    "data.head(5)\n"
   ]
  },
  {
   "cell_type": "code",
   "execution_count": 48,
   "metadata": {},
   "outputs": [
    {
     "data": {
      "text/plain": [
       "(30, 17)"
      ]
     },
     "execution_count": 48,
     "metadata": {},
     "output_type": "execute_result"
    }
   ],
   "source": [
    "data.shape\n"
   ]
  },
  {
   "cell_type": "code",
   "execution_count": 49,
   "metadata": {},
   "outputs": [
    {
     "data": {
      "text/plain": [
       "Index(['W', 'R', 'AB', 'H', '2B', '3B', 'HR', 'BB', 'SO', 'SB', 'RA', 'ER',\n",
       "       'ERA', 'CG', 'SHO', 'SV', 'E'],\n",
       "      dtype='object')"
      ]
     },
     "execution_count": 49,
     "metadata": {},
     "output_type": "execute_result"
    }
   ],
   "source": [
    "data.columns\n",
    "#Runs, At Bats, Hits, Doubles, Triples, Homeruns, Walks, \n",
    "#Strikeouts, Stolen Bases, Runs Allowed, Earned Runs, \n",
    "#Earned Run Average (ERA), Shutouts, Saves, and Errors"
   ]
  },
  {
   "cell_type": "code",
   "execution_count": 50,
   "metadata": {},
   "outputs": [
    {
     "data": {
      "text/plain": [
       "W      0\n",
       "R      0\n",
       "AB     0\n",
       "H      0\n",
       "2B     0\n",
       "3B     0\n",
       "HR     0\n",
       "BB     0\n",
       "SO     0\n",
       "SB     0\n",
       "RA     0\n",
       "ER     0\n",
       "ERA    0\n",
       "CG     0\n",
       "SHO    0\n",
       "SV     0\n",
       "E      0\n",
       "dtype: int64"
      ]
     },
     "execution_count": 50,
     "metadata": {},
     "output_type": "execute_result"
    }
   ],
   "source": [
    "data.isnull().sum()\n"
   ]
  },
  {
   "cell_type": "markdown",
   "metadata": {},
   "source": [
    "There is no any null value\n",
    "\n"
   ]
  },
  {
   "cell_type": "code",
   "execution_count": 51,
   "metadata": {},
   "outputs": [
    {
     "data": {
      "text/plain": [
       "<seaborn.axisgrid.FacetGrid at 0x23853682670>"
      ]
     },
     "execution_count": 51,
     "metadata": {},
     "output_type": "execute_result"
    },
    {
     "data": {
      "image/png": "[encoded data removed]",
      "text/plain": [
       "<Figure size 360x360 with 1 Axes>"
      ]
     },
     "metadata": {
      "needs_background": "light"
     },
     "output_type": "display_data"
    }
   ],
   "source": [
    "sns.relplot(x='R',y='W',data=data,kind='line')\n"
   ]
  },
  {
   "cell_type": "code",
   "execution_count": 52,
   "metadata": {},
   "outputs": [
    {
     "data": {
      "text/plain": [
       "<AxesSubplot:xlabel='R', ylabel='W'>"
      ]
     },
     "execution_count": 52,
     "metadata": {},
     "output_type": "execute_result"
    },
    {
     "data": {
      "image/png": "[encoded data removed]",
      "text/plain": [
       "<Figure size 432x288 with 1 Axes>"
      ]
     },
     "metadata": {
      "needs_background": "light"
     },
     "output_type": "display_data"
    }
   ],
   "source": [
    "sns.scatterplot(x=\"R\",y=\"W\",data=data)\n"
   ]
  },
  {
   "cell_type": "code",
   "execution_count": 53,
   "metadata": {},
   "outputs": [
    {
     "data": {
      "text/plain": [
       "<AxesSubplot:xlabel='AB', ylabel='W'>"
      ]
     },
     "execution_count": 53,
     "metadata": {},
     "output_type": "execute_result"
    },
    {
     "data": {
      "image/png": "[encoded data removed]",
      "text/plain": [
       "<Figure size 432x288 with 1 Axes>"
      ]
     },
     "metadata": {
      "needs_background": "light"
     },
     "output_type": "display_data"
    }
   ],
   "source": [
    "sns.scatterplot(x=\"AB\",y=\"W\",data=data)\n"
   ]
  },
  {
   "cell_type": "code",
   "execution_count": 54,
   "metadata": {},
   "outputs": [
    {
     "data": {
      "text/plain": [
       "<AxesSubplot:xlabel='H', ylabel='W'>"
      ]
     },
     "execution_count": 54,
     "metadata": {},
     "output_type": "execute_result"
    },
    {
     "data": {
      "image/png": "[encoded data removed]",
      "text/plain": [
       "<Figure size 432x288 with 1 Axes>"
      ]
     },
     "metadata": {
      "needs_background": "light"
     },
     "output_type": "display_data"
    }
   ],
   "source": [
    "sns.scatterplot(x=\"H\",y=\"W\",data=data)\n"
   ]
  },
  {
   "cell_type": "code",
   "execution_count": 55,
   "metadata": {},
   "outputs": [
    {
     "data": {
      "text/plain": [
       "<AxesSubplot:xlabel='SB', ylabel='W'>"
      ]
     },
     "execution_count": 55,
     "metadata": {},
     "output_type": "execute_result"
    },
    {
     "data": {
      "image/png": "[encoded data removed]",
      "text/plain": [
       "<Figure size 432x288 with 1 Axes>"
      ]
     },
     "metadata": {
      "needs_background": "light"
     },
     "output_type": "display_data"
    }
   ],
   "source": [
    "sns.scatterplot(x=\"SB\",y=\"W\",data=data)\n"
   ]
  },
  {
   "cell_type": "code",
   "execution_count": 56,
   "metadata": {},
   "outputs": [
    {
     "data": {
      "text/plain": [
       "<AxesSubplot:xlabel='ERA', ylabel='W'>"
      ]
     },
     "execution_count": 56,
     "metadata": {},
     "output_type": "execute_result"
    },
    {
     "data": {
      "image/png": "[encoded data removed]",
      "text/plain": [
       "<Figure size 432x288 with 1 Axes>"
      ]
     },
     "metadata": {
      "needs_background": "light"
     },
     "output_type": "display_data"
    }
   ],
   "source": [
    "sns.scatterplot(x=\"ERA\",y=\"W\",data=data)\n"
   ]
  },
  {
   "cell_type": "code",
   "execution_count": 57,
   "metadata": {},
   "outputs": [
    {
     "data": {
      "text/plain": [
       "<AxesSubplot:xlabel='SV', ylabel='W'>"
      ]
     },
     "execution_count": 57,
     "metadata": {},
     "output_type": "execute_result"
    },
    {
     "data": {
      "image/png": "[encoded data removed]",
      "text/plain": [
       "<Figure size 432x288 with 1 Axes>"
      ]
     },
     "metadata": {
      "needs_background": "light"
     },
     "output_type": "display_data"
    }
   ],
   "source": [
    "sns.scatterplot(x=\"SV\",y=\"W\",data=data)\n"
   ]
  },
  {
   "cell_type": "code",
   "execution_count": 58,
   "metadata": {},
   "outputs": [
    {
     "data": {
      "text/plain": [
       "<AxesSubplot:xlabel='E', ylabel='W'>"
      ]
     },
     "execution_count": 58,
     "metadata": {},
     "output_type": "execute_result"
    },
    {
     "data": {
      "image/png": "[encoded data removed]",
      "text/plain": [
       "<Figure size 432x288 with 1 Axes>"
      ]
     },
     "metadata": {
      "needs_background": "light"
     },
     "output_type": "display_data"
    }
   ],
   "source": [
    "sns.scatterplot(x=\"E\",y=\"W\",data=data)\n"
   ]
  },
  {
   "cell_type": "markdown",
   "metadata": {},
   "source": [
    "Many of the variables had a decent linear with wins. ERA looks to have the highest negative correlation with wins and On-base Percentage looks to have the highest positive correlation.\n",
    "\n"
   ]
  },
  {
   "cell_type": "code",
   "execution_count": 59,
   "metadata": {},
   "outputs": [
    {
     "data": {
      "text/html": [
       "<div>\n",
       "<style scoped>\n",
       "    .dataframe tbody tr th:only-of-type {\n",
       "        vertical-align: middle;\n",
       "    }\n",
       "\n",
       "    .dataframe tbody tr th {\n",
       "        vertical-align: top;\n",
       "    }\n",
       "\n",
       "    .dataframe thead th {\n",
       "        text-align: right;\n",
       "    }\n",
       "</style>\n",
       "<table border=\"1\" class=\"dataframe\">\n",
       "  <thead>\n",
       "    <tr style=\"text-align: right;\">\n",
       "      <th></th>\n",
       "      <th>W</th>\n",
       "      <th>R</th>\n",
       "      <th>AB</th>\n",
       "      <th>H</th>\n",
       "      <th>2B</th>\n",
       "      <th>3B</th>\n",
       "      <th>HR</th>\n",
       "      <th>BB</th>\n",
       "      <th>SO</th>\n",
       "      <th>SB</th>\n",
       "      <th>RA</th>\n",
       "      <th>ER</th>\n",
       "      <th>ERA</th>\n",
       "      <th>CG</th>\n",
       "      <th>SHO</th>\n",
       "      <th>SV</th>\n",
       "      <th>E</th>\n",
       "    </tr>\n",
       "  </thead>\n",
       "  <tbody>\n",
       "    <tr>\n",
       "      <th>W</th>\n",
       "      <td>1.000000</td>\n",
       "      <td>0.430751</td>\n",
       "      <td>-0.087947</td>\n",
       "      <td>0.037612</td>\n",
       "      <td>0.427797</td>\n",
       "      <td>-0.251118</td>\n",
       "      <td>0.307407</td>\n",
       "      <td>0.484342</td>\n",
       "      <td>0.111850</td>\n",
       "      <td>-0.157234</td>\n",
       "      <td>-0.812952</td>\n",
       "      <td>-0.809435</td>\n",
       "      <td>-0.819600</td>\n",
       "      <td>0.080533</td>\n",
       "      <td>0.471805</td>\n",
       "      <td>0.666530</td>\n",
       "      <td>-0.089485</td>\n",
       "    </tr>\n",
       "    <tr>\n",
       "      <th>R</th>\n",
       "      <td>0.430751</td>\n",
       "      <td>1.000000</td>\n",
       "      <td>0.319464</td>\n",
       "      <td>0.482856</td>\n",
       "      <td>0.560084</td>\n",
       "      <td>-0.070072</td>\n",
       "      <td>0.671283</td>\n",
       "      <td>0.402452</td>\n",
       "      <td>-0.054726</td>\n",
       "      <td>0.081367</td>\n",
       "      <td>-0.041623</td>\n",
       "      <td>-0.041245</td>\n",
       "      <td>-0.049281</td>\n",
       "      <td>0.232042</td>\n",
       "      <td>-0.103274</td>\n",
       "      <td>-0.096380</td>\n",
       "      <td>-0.023262</td>\n",
       "    </tr>\n",
       "    <tr>\n",
       "      <th>AB</th>\n",
       "      <td>-0.087947</td>\n",
       "      <td>0.319464</td>\n",
       "      <td>1.000000</td>\n",
       "      <td>0.739122</td>\n",
       "      <td>0.453370</td>\n",
       "      <td>0.435422</td>\n",
       "      <td>-0.066983</td>\n",
       "      <td>-0.136414</td>\n",
       "      <td>-0.106022</td>\n",
       "      <td>0.372618</td>\n",
       "      <td>0.316010</td>\n",
       "      <td>0.309686</td>\n",
       "      <td>0.255551</td>\n",
       "      <td>-0.080876</td>\n",
       "      <td>-0.197321</td>\n",
       "      <td>-0.106367</td>\n",
       "      <td>0.316743</td>\n",
       "    </tr>\n",
       "    <tr>\n",
       "      <th>H</th>\n",
       "      <td>0.037612</td>\n",
       "      <td>0.482856</td>\n",
       "      <td>0.739122</td>\n",
       "      <td>1.000000</td>\n",
       "      <td>0.566847</td>\n",
       "      <td>0.478694</td>\n",
       "      <td>-0.090855</td>\n",
       "      <td>-0.118281</td>\n",
       "      <td>-0.398830</td>\n",
       "      <td>0.413444</td>\n",
       "      <td>0.224324</td>\n",
       "      <td>0.252489</td>\n",
       "      <td>0.231172</td>\n",
       "      <td>0.147955</td>\n",
       "      <td>-0.145559</td>\n",
       "      <td>-0.130371</td>\n",
       "      <td>-0.033173</td>\n",
       "    </tr>\n",
       "    <tr>\n",
       "      <th>2B</th>\n",
       "      <td>0.427797</td>\n",
       "      <td>0.560084</td>\n",
       "      <td>0.453370</td>\n",
       "      <td>0.566847</td>\n",
       "      <td>1.000000</td>\n",
       "      <td>0.220490</td>\n",
       "      <td>0.056292</td>\n",
       "      <td>0.302700</td>\n",
       "      <td>-0.150752</td>\n",
       "      <td>0.195027</td>\n",
       "      <td>-0.218160</td>\n",
       "      <td>-0.235531</td>\n",
       "      <td>-0.254854</td>\n",
       "      <td>0.306675</td>\n",
       "      <td>0.057998</td>\n",
       "      <td>0.171576</td>\n",
       "      <td>0.105754</td>\n",
       "    </tr>\n",
       "    <tr>\n",
       "      <th>3B</th>\n",
       "      <td>-0.251118</td>\n",
       "      <td>-0.070072</td>\n",
       "      <td>0.435422</td>\n",
       "      <td>0.478694</td>\n",
       "      <td>0.220490</td>\n",
       "      <td>1.000000</td>\n",
       "      <td>-0.430915</td>\n",
       "      <td>-0.454949</td>\n",
       "      <td>-0.141196</td>\n",
       "      <td>0.457437</td>\n",
       "      <td>0.314125</td>\n",
       "      <td>0.340225</td>\n",
       "      <td>0.330951</td>\n",
       "      <td>-0.065898</td>\n",
       "      <td>-0.041396</td>\n",
       "      <td>-0.142370</td>\n",
       "      <td>0.126678</td>\n",
       "    </tr>\n",
       "    <tr>\n",
       "      <th>HR</th>\n",
       "      <td>0.307407</td>\n",
       "      <td>0.671283</td>\n",
       "      <td>-0.066983</td>\n",
       "      <td>-0.090855</td>\n",
       "      <td>0.056292</td>\n",
       "      <td>-0.430915</td>\n",
       "      <td>1.000000</td>\n",
       "      <td>0.425691</td>\n",
       "      <td>0.359923</td>\n",
       "      <td>-0.136567</td>\n",
       "      <td>-0.103903</td>\n",
       "      <td>-0.085922</td>\n",
       "      <td>-0.090917</td>\n",
       "      <td>0.156502</td>\n",
       "      <td>-0.019119</td>\n",
       "      <td>-0.028540</td>\n",
       "      <td>-0.207597</td>\n",
       "    </tr>\n",
       "    <tr>\n",
       "      <th>BB</th>\n",
       "      <td>0.484342</td>\n",
       "      <td>0.402452</td>\n",
       "      <td>-0.136414</td>\n",
       "      <td>-0.118281</td>\n",
       "      <td>0.302700</td>\n",
       "      <td>-0.454949</td>\n",
       "      <td>0.425691</td>\n",
       "      <td>1.000000</td>\n",
       "      <td>0.233652</td>\n",
       "      <td>-0.098347</td>\n",
       "      <td>-0.416445</td>\n",
       "      <td>-0.452663</td>\n",
       "      <td>-0.459832</td>\n",
       "      <td>0.462478</td>\n",
       "      <td>0.426004</td>\n",
       "      <td>0.099445</td>\n",
       "      <td>-0.075685</td>\n",
       "    </tr>\n",
       "    <tr>\n",
       "      <th>SO</th>\n",
       "      <td>0.111850</td>\n",
       "      <td>-0.054726</td>\n",
       "      <td>-0.106022</td>\n",
       "      <td>-0.398830</td>\n",
       "      <td>-0.150752</td>\n",
       "      <td>-0.141196</td>\n",
       "      <td>0.359923</td>\n",
       "      <td>0.233652</td>\n",
       "      <td>1.000000</td>\n",
       "      <td>0.030968</td>\n",
       "      <td>-0.129745</td>\n",
       "      <td>-0.161612</td>\n",
       "      <td>-0.180368</td>\n",
       "      <td>-0.093418</td>\n",
       "      <td>0.237721</td>\n",
       "      <td>0.126297</td>\n",
       "      <td>0.155133</td>\n",
       "    </tr>\n",
       "    <tr>\n",
       "      <th>SB</th>\n",
       "      <td>-0.157234</td>\n",
       "      <td>0.081367</td>\n",
       "      <td>0.372618</td>\n",
       "      <td>0.413444</td>\n",
       "      <td>0.195027</td>\n",
       "      <td>0.457437</td>\n",
       "      <td>-0.136567</td>\n",
       "      <td>-0.098347</td>\n",
       "      <td>0.030968</td>\n",
       "      <td>1.000000</td>\n",
       "      <td>0.132290</td>\n",
       "      <td>0.143068</td>\n",
       "      <td>0.126063</td>\n",
       "      <td>-0.020783</td>\n",
       "      <td>-0.106563</td>\n",
       "      <td>-0.183418</td>\n",
       "      <td>0.079149</td>\n",
       "    </tr>\n",
       "    <tr>\n",
       "      <th>RA</th>\n",
       "      <td>-0.812952</td>\n",
       "      <td>-0.041623</td>\n",
       "      <td>0.316010</td>\n",
       "      <td>0.224324</td>\n",
       "      <td>-0.218160</td>\n",
       "      <td>0.314125</td>\n",
       "      <td>-0.103903</td>\n",
       "      <td>-0.416445</td>\n",
       "      <td>-0.129745</td>\n",
       "      <td>0.132290</td>\n",
       "      <td>1.000000</td>\n",
       "      <td>0.991018</td>\n",
       "      <td>0.986674</td>\n",
       "      <td>-0.016659</td>\n",
       "      <td>-0.636862</td>\n",
       "      <td>-0.616224</td>\n",
       "      <td>0.198996</td>\n",
       "    </tr>\n",
       "    <tr>\n",
       "      <th>ER</th>\n",
       "      <td>-0.809435</td>\n",
       "      <td>-0.041245</td>\n",
       "      <td>0.309686</td>\n",
       "      <td>0.252489</td>\n",
       "      <td>-0.235531</td>\n",
       "      <td>0.340225</td>\n",
       "      <td>-0.085922</td>\n",
       "      <td>-0.452663</td>\n",
       "      <td>-0.161612</td>\n",
       "      <td>0.143068</td>\n",
       "      <td>0.991018</td>\n",
       "      <td>1.000000</td>\n",
       "      <td>0.997248</td>\n",
       "      <td>-0.020221</td>\n",
       "      <td>-0.630192</td>\n",
       "      <td>-0.589663</td>\n",
       "      <td>0.136921</td>\n",
       "    </tr>\n",
       "    <tr>\n",
       "      <th>ERA</th>\n",
       "      <td>-0.819600</td>\n",
       "      <td>-0.049281</td>\n",
       "      <td>0.255551</td>\n",
       "      <td>0.231172</td>\n",
       "      <td>-0.254854</td>\n",
       "      <td>0.330951</td>\n",
       "      <td>-0.090917</td>\n",
       "      <td>-0.459832</td>\n",
       "      <td>-0.180368</td>\n",
       "      <td>0.126063</td>\n",
       "      <td>0.986674</td>\n",
       "      <td>0.997248</td>\n",
       "      <td>1.000000</td>\n",
       "      <td>-0.009856</td>\n",
       "      <td>-0.630833</td>\n",
       "      <td>-0.607005</td>\n",
       "      <td>0.113137</td>\n",
       "    </tr>\n",
       "    <tr>\n",
       "      <th>CG</th>\n",
       "      <td>0.080533</td>\n",
       "      <td>0.232042</td>\n",
       "      <td>-0.080876</td>\n",
       "      <td>0.147955</td>\n",
       "      <td>0.306675</td>\n",
       "      <td>-0.065898</td>\n",
       "      <td>0.156502</td>\n",
       "      <td>0.462478</td>\n",
       "      <td>-0.093418</td>\n",
       "      <td>-0.020783</td>\n",
       "      <td>-0.016659</td>\n",
       "      <td>-0.020221</td>\n",
       "      <td>-0.009856</td>\n",
       "      <td>1.000000</td>\n",
       "      <td>0.241676</td>\n",
       "      <td>-0.367766</td>\n",
       "      <td>-0.140047</td>\n",
       "    </tr>\n",
       "    <tr>\n",
       "      <th>SHO</th>\n",
       "      <td>0.471805</td>\n",
       "      <td>-0.103274</td>\n",
       "      <td>-0.197321</td>\n",
       "      <td>-0.145559</td>\n",
       "      <td>0.057998</td>\n",
       "      <td>-0.041396</td>\n",
       "      <td>-0.019119</td>\n",
       "      <td>0.426004</td>\n",
       "      <td>0.237721</td>\n",
       "      <td>-0.106563</td>\n",
       "      <td>-0.636862</td>\n",
       "      <td>-0.630192</td>\n",
       "      <td>-0.630833</td>\n",
       "      <td>0.241676</td>\n",
       "      <td>1.000000</td>\n",
       "      <td>0.221639</td>\n",
       "      <td>-0.115716</td>\n",
       "    </tr>\n",
       "    <tr>\n",
       "      <th>SV</th>\n",
       "      <td>0.666530</td>\n",
       "      <td>-0.096380</td>\n",
       "      <td>-0.106367</td>\n",
       "      <td>-0.130371</td>\n",
       "      <td>0.171576</td>\n",
       "      <td>-0.142370</td>\n",
       "      <td>-0.028540</td>\n",
       "      <td>0.099445</td>\n",
       "      <td>0.126297</td>\n",
       "      <td>-0.183418</td>\n",
       "      <td>-0.616224</td>\n",
       "      <td>-0.589663</td>\n",
       "      <td>-0.607005</td>\n",
       "      <td>-0.367766</td>\n",
       "      <td>0.221639</td>\n",
       "      <td>1.000000</td>\n",
       "      <td>-0.025636</td>\n",
       "    </tr>\n",
       "    <tr>\n",
       "      <th>E</th>\n",
       "      <td>-0.089485</td>\n",
       "      <td>-0.023262</td>\n",
       "      <td>0.316743</td>\n",
       "      <td>-0.033173</td>\n",
       "      <td>0.105754</td>\n",
       "      <td>0.126678</td>\n",
       "      <td>-0.207597</td>\n",
       "      <td>-0.075685</td>\n",
       "      <td>0.155133</td>\n",
       "      <td>0.079149</td>\n",
       "      <td>0.198996</td>\n",
       "      <td>0.136921</td>\n",
       "      <td>0.113137</td>\n",
       "      <td>-0.140047</td>\n",
       "      <td>-0.115716</td>\n",
       "      <td>-0.025636</td>\n",
       "      <td>1.000000</td>\n",
       "    </tr>\n",
       "  </tbody>\n",
       "</table>\n",
       "</div>"
      ],
      "text/plain": [
       "            W         R        AB         H        2B        3B        HR  \\\n",
       "W    1.000000  0.430751 -0.087947  0.037612  0.427797 -0.251118  0.307407   \n",
       "R    0.430751  1.000000  0.319464  0.482856  0.560084 -0.070072  0.671283   \n",
       "AB  -0.087947  0.319464  1.000000  0.739122  0.453370  0.435422 -0.066983   \n",
       "H    0.037612  0.482856  0.739122  1.000000  0.566847  0.478694 -0.090855   \n",
       "2B   0.427797  0.560084  0.453370  0.566847  1.000000  0.220490  0.056292   \n",
       "3B  -0.251118 -0.070072  0.435422  0.478694  0.220490  1.000000 -0.430915   \n",
       "HR   0.307407  0.671283 -0.066983 -0.090855  0.056292 -0.430915  1.000000   \n",
       "BB   0.484342  0.402452 -0.136414 -0.118281  0.302700 -0.454949  0.425691   \n",
       "SO   0.111850 -0.054726 -0.106022 -0.398830 -0.150752 -0.141196  0.359923   \n",
       "SB  -0.157234  0.081367  0.372618  0.413444  0.195027  0.457437 -0.136567   \n",
       "RA  -0.812952 -0.041623  0.316010  0.224324 -0.218160  0.314125 -0.103903   \n",
       "ER  -0.809435 -0.041245  0.309686  0.252489 -0.235531  0.340225 -0.085922   \n",
       "ERA -0.819600 -0.049281  0.255551  0.231172 -0.254854  0.330951 -0.090917   \n",
       "CG   0.080533  0.232042 -0.080876  0.147955  0.306675 -0.065898  0.156502   \n",
       "SHO  0.471805 -0.103274 -0.197321 -0.145559  0.057998 -0.041396 -0.019119   \n",
       "SV   0.666530 -0.096380 -0.106367 -0.130371  0.171576 -0.142370 -0.028540   \n",
       "E   -0.089485 -0.023262  0.316743 -0.033173  0.105754  0.126678 -0.207597   \n",
       "\n",
       "           BB        SO        SB        RA        ER       ERA        CG  \\\n",
       "W    0.484342  0.111850 -0.157234 -0.812952 -0.809435 -0.819600  0.080533   \n",
       "R    0.402452 -0.054726  0.081367 -0.041623 -0.041245 -0.049281  0.232042   \n",
       "AB  -0.136414 -0.106022  0.372618  0.316010  0.309686  0.255551 -0.080876   \n",
       "H   -0.118281 -0.398830  0.413444  0.224324  0.252489  0.231172  0.147955   \n",
       "2B   0.302700 -0.150752  0.195027 -0.218160 -0.235531 -0.254854  0.306675   \n",
       "3B  -0.454949 -0.141196  0.457437  0.314125  0.340225  0.330951 -0.065898   \n",
       "HR   0.425691  0.359923 -0.136567 -0.103903 -0.085922 -0.090917  0.156502   \n",
       "BB   1.000000  0.233652 -0.098347 -0.416445 -0.452663 -0.459832  0.462478   \n",
       "SO   0.233652  1.000000  0.030968 -0.129745 -0.161612 -0.180368 -0.093418   \n",
       "SB  -0.098347  0.030968  1.000000  0.132290  0.143068  0.126063 -0.020783   \n",
       "RA  -0.416445 -0.129745  0.132290  1.000000  0.991018  0.986674 -0.016659   \n",
       "ER  -0.452663 -0.161612  0.143068  0.991018  1.000000  0.997248 -0.020221   \n",
       "ERA -0.459832 -0.180368  0.126063  0.986674  0.997248  1.000000 -0.009856   \n",
       "CG   0.462478 -0.093418 -0.020783 -0.016659 -0.020221 -0.009856  1.000000   \n",
       "SHO  0.426004  0.237721 -0.106563 -0.636862 -0.630192 -0.630833  0.241676   \n",
       "SV   0.099445  0.126297 -0.183418 -0.616224 -0.589663 -0.607005 -0.367766   \n",
       "E   -0.075685  0.155133  0.079149  0.198996  0.136921  0.113137 -0.140047   \n",
       "\n",
       "          SHO        SV         E  \n",
       "W    0.471805  0.666530 -0.089485  \n",
       "R   -0.103274 -0.096380 -0.023262  \n",
       "AB  -0.197321 -0.106367  0.316743  \n",
       "H   -0.145559 -0.130371 -0.033173  \n",
       "2B   0.057998  0.171576  0.105754  \n",
       "3B  -0.041396 -0.142370  0.126678  \n",
       "HR  -0.019119 -0.028540 -0.207597  \n",
       "BB   0.426004  0.099445 -0.075685  \n",
       "SO   0.237721  0.126297  0.155133  \n",
       "SB  -0.106563 -0.183418  0.079149  \n",
       "RA  -0.636862 -0.616224  0.198996  \n",
       "ER  -0.630192 -0.589663  0.136921  \n",
       "ERA -0.630833 -0.607005  0.113137  \n",
       "CG   0.241676 -0.367766 -0.140047  \n",
       "SHO  1.000000  0.221639 -0.115716  \n",
       "SV   0.221639  1.000000 -0.025636  \n",
       "E   -0.115716 -0.025636  1.000000  "
      ]
     },
     "execution_count": 59,
     "metadata": {},
     "output_type": "execute_result"
    }
   ],
   "source": [
    "data.corr()\n"
   ]
  },
  {
   "cell_type": "code",
   "execution_count": 60,
   "metadata": {},
   "outputs": [
    {
     "data": {
      "text/plain": [
       "W        int64\n",
       "R        int64\n",
       "AB       int64\n",
       "H        int64\n",
       "2B       int64\n",
       "3B       int64\n",
       "HR       int64\n",
       "BB       int64\n",
       "SO       int64\n",
       "SB       int64\n",
       "RA       int64\n",
       "ER       int64\n",
       "ERA    float64\n",
       "CG       int64\n",
       "SHO      int64\n",
       "SV       int64\n",
       "E        int64\n",
       "dtype: object"
      ]
     },
     "execution_count": 60,
     "metadata": {},
     "output_type": "execute_result"
    }
   ],
   "source": [
    "data.dtypes\n"
   ]
  },
  {
   "cell_type": "markdown",
   "metadata": {},
   "source": [
    "### Spliting the data\n"
   ]
  },
  {
   "cell_type": "code",
   "execution_count": 61,
   "metadata": {},
   "outputs": [],
   "source": [
    "x=data.iloc[:,1:18].values\n",
    "y=data.iloc[:,0].values"
   ]
  },
  {
   "cell_type": "code",
   "execution_count": 62,
   "metadata": {},
   "outputs": [],
   "source": [
    "from sklearn.model_selection import train_test_split\n",
    "x_train,x_test,y_train,y_test=train_test_split(x,y,test_size=0.2,random_state=0)"
   ]
  },
  {
   "cell_type": "code",
   "execution_count": 63,
   "metadata": {},
   "outputs": [],
   "source": [
    "\n",
    "from sklearn.preprocessing import StandardScaler\n",
    "sc=StandardScaler()\n",
    "x_train=sc.fit_transform(x_train)\n",
    "x_test=sc.fit_transform(x_test)"
   ]
  },
  {
   "cell_type": "code",
   "execution_count": 64,
   "metadata": {},
   "outputs": [],
   "source": [
    "def models(x_train,y_train):\n",
    "    #use logistic regression\n",
    "    from sklearn.linear_model import LogisticRegression\n",
    "    log=LogisticRegression(random_state=0)\n",
    "    log.fit(x_train,y_train)\n",
    "    \n",
    "    #use KNeighbors\n",
    "    from sklearn.neighbors import KNeighborsClassifier\n",
    "    knn=KNeighborsClassifier(n_neighbors=5,metric='minkowski',p=2)\n",
    "    knn.fit(x_train,y_train)\n",
    "    \n",
    "    #use SVC(linear kernel)\n",
    "    from sklearn.svm import SVC\n",
    "    svc_lin=SVC(kernel='linear',random_state=0)\n",
    "    svc_lin.fit(x_train,y_train)\n",
    "    \n",
    "    #use SVC (RBF kernel)\n",
    "    from sklearn.svm import SVC\n",
    "    svc_rbf=SVC(kernel='rbf',random_state=0)\n",
    "    svc_rbf.fit(x_train,y_train)\n",
    "    \n",
    "    #use GaussianNB\n",
    "    from sklearn.naive_bayes import GaussianNB\n",
    "    gauss=GaussianNB()\n",
    "    gauss.fit(x_train,y_train)\n",
    "    \n",
    "    #use decision tree\n",
    "    from sklearn.tree import DecisionTreeClassifier\n",
    "    tree=DecisionTreeClassifier(criterion='entropy',random_state=0)\n",
    "    tree.fit(x_train,y_train)\n",
    "    \n",
    "    #use RandomForestClassifier\n",
    "    from sklearn.ensemble import RandomForestClassifier\n",
    "    forest=RandomForestClassifier(n_estimators=10,criterion='entropy',random_state=0)\n",
    "    forest.fit(x_train,y_train)\n",
    "    \n",
    "    print('[0]Logistic Regression training Accuracy:   ' , log.score(x_train,y_train))\n",
    "    print('[1]KNeighbors training Accuracy:            ' , knn.score(x_train,y_train))\n",
    "    print('[2]SVC(linear kernel) training Accuracy:    ' , svc_lin.score(x_train,y_train))\n",
    "    print('[3]SVC (RBF kernel) training Accuracy:      ' , svc_rbf.score(x_train,y_train))\n",
    "    print('[4]GaussianNB training Accuracy:            ' , gauss.score(x_train,y_train))\n",
    "    print('[5]DecisionTreeClassifier training Accuracy:' , tree.score(x_train,y_train))\n",
    "    print('[6]RandomForestClassifier training Accuracy:' , forest.score(x_train,y_train))\n",
    "    \n",
    "    return log, knn, svc_lin, svc_rbf ,gauss, tree ,forest"
   ]
  },
  {
   "cell_type": "code",
   "execution_count": 65,
   "metadata": {},
   "outputs": [
    {
     "name": "stdout",
     "output_type": "stream",
     "text": [
      "[0]Logistic Regression training Accuracy:    1.0\n",
      "[1]KNeighbors training Accuracy:             0.25\n",
      "[2]SVC(linear kernel) training Accuracy:     1.0\n",
      "[3]SVC (RBF kernel) training Accuracy:       0.5833333333333334\n",
      "[4]GaussianNB training Accuracy:             1.0\n",
      "[5]DecisionTreeClassifier training Accuracy: 1.0\n",
      "[6]RandomForestClassifier training Accuracy: 1.0\n"
     ]
    }
   ],
   "source": [
    "model=models(x_train,y_train)\n"
   ]
  },
  {
   "cell_type": "markdown",
   "metadata": {},
   "source": [
    "#### most of the models have accuracy of 100%\n",
    "\n"
   ]
  },
  {
   "cell_type": "code",
   "execution_count": null,
   "metadata": {},
   "outputs": [],
   "source": []
  }
 ],
 "metadata": {
  "kernelspec": {
   "display_name": "Python 3",
   "language": "python",
   "name": "python3"
  },
  "language_info": {
   "codemirror_mode": {
    "name": "ipython",
    "version": 3
   },
   "file_extension": ".py",
   "mimetype": "text/x-python",
   "name": "python",
   "nbconvert_exporter": "python",
   "pygments_lexer": "ipython3",
   "version": "3.8.5"
  }
 },
 "nbformat": 4,
 "nbformat_minor": 4
}
